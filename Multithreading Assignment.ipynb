{
 "cells": [
  {
   "cell_type": "markdown",
   "id": "cab800f6",
   "metadata": {},
   "source": [
    "1. What is multithreading in python? why is it used? Name the module used to handle threads in python\n",
    "\n",
    "\n",
    "Ans: `Multithreading in Python is a popular technique that enables multiple tasks to be executed simultaneously. In simple words, the ability of a processor to execute multiple threads simultaneously is known as multithreading.`\n",
    "\n",
    "`Python multithreading facilitates sharing data space and resources of multiple threads with the main thread. It allows efficient and easy communication between the threads.`\n",
    "\n",
    "\n",
    "\n",
    "\n",
    "- In Python, the threading module is commonly used to handle threads. This module provides a way to create and manage threads, allowing you to implement multithreaded applications.\n",
    "\n",
    "\n",
    "\n",
    "- If you wish to break down your tasks and applications into multiple sub-tasks and then execute them simultaneously, then multithreading in Python is your best.\n",
    "\n",
    "- All important aspects such as performance, rendering, speed and time consumption will drastically be improved by using proper Python multithreading.\n",
    "\n",
    "\n",
    "\n",
    "\n",
    "\n",
    "# `\"threading module\" is used for creating, controlling and managing threads in python.`\n",
    "\n"
   ]
  },
  {
   "cell_type": "code",
   "execution_count": null,
   "id": "660630ce",
   "metadata": {},
   "outputs": [],
   "source": []
  },
  {
   "cell_type": "markdown",
   "id": "6fc674a1",
   "metadata": {},
   "source": [
    "__2.Why threading module used? write the use of the following functions:__\n",
    "\n",
    "`a. activecount()`\n",
    "\n",
    "`b. currentThread()`\n",
    "\n",
    "`c. enumerate()`"
   ]
  },
  {
   "cell_type": "markdown",
   "id": "c7516f9e",
   "metadata": {},
   "source": [
    "# `\"threading module\" is used for creating, controlling and managing threads in python.\n",
    "\n",
    "\n",
    "\n",
    "`a. activeCount():-- In Python's threading module, the activeCount() function is used to get the number of Thread objects currently alive. It returns the number of Thread objects currently in the system, whether they are actively executing or in other states.`\n",
    "\n",
    "\n",
    "\n",
    "`b. currentThread():-  In Python's threading module, the currentThread() function is used to retrieve the currently executing Thread object. This function returns the Thread object representing the thread from which it is called.`\n",
    "\n",
    "__The threading.current_thread() is an inbuilt method of the threading module, it is used to return the current Thread object, which corresponds to the caller's thread of control__.\n",
    "\n",
    "\n",
    "\n",
    "`c. enumerate():-  In Python, enumerate() is a built-in function that is used to iterate over a sequence (like a list, tuple, or string) while keeping track of the index of the current item. It returns an iterator that generates pairs of index and value for each item in the sequence.`"
   ]
  },
  {
   "cell_type": "code",
   "execution_count": null,
   "id": "edfcc4f6",
   "metadata": {},
   "outputs": [],
   "source": []
  },
  {
   "cell_type": "markdown",
   "id": "a62e9771",
   "metadata": {},
   "source": [
    "`3. Explain the following functions:`\n",
    "\n",
    "`a. run()`\n",
    "\n",
    "`b. start()`\n",
    "\n",
    "`c. join()`\n",
    "\n",
    "`d. isAlive()`"
   ]
  },
  {
   "cell_type": "markdown",
   "id": "47ec0615",
   "metadata": {},
   "source": [
    "`a. run():--- The Thread.run() method is an inbuilt method of the Thread class of the threading module , it is used to represent a thread's activity. It calls the method expressed as the target argument in the Thread object along with the positional and keyword arguments taken from the args and kwargs arguments, respectively. This method can also be overridden in the subclass.`"
   ]
  },
  {
   "cell_type": "code",
   "execution_count": 6,
   "id": "36cd7c14",
   "metadata": {},
   "outputs": [
    {
     "name": "stdout",
     "output_type": "stream",
     "text": [
      "Value by Thread 1: 1\n",
      "Value by Thread 2: 2\n",
      "Value by Thread 3: 3\n"
     ]
    }
   ],
   "source": [
    "# use of run() method in Thread class\n",
    "\n",
    "import threading\n",
    "\n",
    "def thread_1(i):\n",
    "    print('Value by Thread 1:', i)\n",
    "\n",
    "def thread_2(i):\n",
    "    print('Value by Thread 2:', i)\n",
    "\n",
    "def thread_3(i):\n",
    "    print('Value by Thread 3:', i)    \n",
    "\n",
    "    \n",
    "# Creating three sample threads \n",
    "thread1 = threading.Thread(target=thread_1, args=(1,))\n",
    "thread2 = threading.Thread(target=thread_2, args=(2,))\n",
    "thread3 = threading.Thread(target=thread_3, args=(3,))\n",
    "\n",
    "# Running three thread object\n",
    "thread1.run()\n",
    "thread2.run()\n",
    "thread3.run()\n"
   ]
  },
  {
   "cell_type": "markdown",
   "id": "22dc69a6",
   "metadata": {},
   "source": [
    "__b. start():- The Thread.start() method is an inbuilt method of the Thread class of the threading module, it is used to start a thread's activity. This method calls the run() method internally which then executes the target method. This method must be called at most one time for one thread. If it is called more than once, it raises a RuntimeError.__"
   ]
  },
  {
   "cell_type": "code",
   "execution_count": 27,
   "id": "2c04df39",
   "metadata": {},
   "outputs": [
    {
     "name": "stdout",
     "output_type": "stream",
     "text": [
      "Value by Thread 2: 2\n"
     ]
    }
   ],
   "source": [
    "# Python program to explain the\n",
    "# use of start() method in Thread class\n",
    "\n",
    "import time\n",
    "import threading\n",
    "\n",
    "def thread_1(i):\n",
    "    time.sleep(5)\n",
    "    print('Value by Thread 1:', i)\n",
    "\n",
    "def thread_2(i):\n",
    "    print('Value by Thread 2:', i)\n",
    "    \n",
    "# Creating two sample threads \n",
    "thread1 = threading.Thread(target=thread_1, args=(1,))\n",
    "thread2 = threading.Thread(target=thread_2, args=(2,))\n",
    "\n",
    "# Starting two threads\n",
    "thread1.start()\n",
    "thread2.start()\n"
   ]
  },
  {
   "cell_type": "markdown",
   "id": "edd99905",
   "metadata": {},
   "source": [
    "### c. join():-- The Thread.join() method is an inbuilt method of the Thread class of the threading module. Whenever this method is called for any Thread object, it blocks the calling thread till the time the thread whose join() method is called terminates, either normally or through an unhandled exception."
   ]
  },
  {
   "cell_type": "code",
   "execution_count": 28,
   "id": "a4d624e8",
   "metadata": {},
   "outputs": [
    {
     "name": "stdout",
     "output_type": "stream",
     "text": [
      "Value by Thread 1: 1\n",
      "Value by Thread 1: 1\n",
      "Value by Thread 2: 2\n"
     ]
    }
   ],
   "source": [
    "# use of join() method in Thread class \n",
    "# with timeout parameter defined\n",
    "\n",
    "import time\n",
    "import threading\n",
    "\n",
    "def thread_1(i):\n",
    "    time.sleep(1)\n",
    "    print('Value by Thread 1:', i)\n",
    "\n",
    "def thread_2(i):\n",
    "    time.sleep(5)\n",
    "    print('Value by Thread 2:', i)\n",
    "    \n",
    "# Creating three sample threads \n",
    "thread1 = threading.Thread(target=thread_1, args=(1,))\n",
    "thread2 = threading.Thread(target=thread_2, args=(2,))\n",
    "\n",
    "# Running three thread object\n",
    "thread1.start()\n",
    "thread1.join(timeout=5)\n",
    "thread2.start()\n",
    "thread2.join()\n"
   ]
  },
  {
   "cell_type": "markdown",
   "id": "3171e3d8",
   "metadata": {},
   "source": [
    "__d. isAlive():-- The Thread.is_alive() method is an inbuilt method of the Thread class of the threading module, it is used to check whether that thread is alive or not, ie, it is still running or not. This method returns True before the run() starts until just after the run() method is executed.__"
   ]
  },
  {
   "cell_type": "code",
   "execution_count": 34,
   "id": "8cb60d61",
   "metadata": {},
   "outputs": [
    {
     "name": "stdout",
     "output_type": "stream",
     "text": [
      "Is thread1 alive: False\n",
      "Is thread2 alive: False\n",
      "\n",
      "Value by Thread 2: 2\n",
      "Is thread1 alive: True\n",
      "Is thread2 alive: False\n",
      "Value by Thread 1: 1\n"
     ]
    }
   ],
   "source": [
    "# use of is_alive() method\n",
    "\n",
    "import time\n",
    "import threading\n",
    "\n",
    "def thread_1(i):\n",
    "    time.sleep(2)\n",
    "    print('Value by Thread 1:', i)\n",
    "\n",
    "def thread_2(i):\n",
    "    print('Value by Thread 2:', i)\n",
    "    \n",
    "# Creating three sample threads \n",
    "thread1 = threading.Thread(target=thread_1, args=(1,))\n",
    "thread2 = threading.Thread(target=thread_2, args=(2,))\n",
    "\n",
    "# Before calling the start(), both threads are not alive\n",
    "print(\"Is thread1 alive:\", thread1.is_alive())\n",
    "print(\"Is thread2 alive:\", thread2.is_alive())\n",
    "print()\n",
    "\n",
    "thread1.start()\n",
    "thread2.start()\n",
    "# Since thread1 is on sleep for 2 seconds, it is alive\n",
    "# while thread 2 is executed instantly\n",
    "\n",
    "print(\"Is thread1 alive:\", thread1.is_alive())\n",
    "print(\"Is thread2 alive:\", thread2.is_alive())\n"
   ]
  },
  {
   "cell_type": "code",
   "execution_count": null,
   "id": "b2c9efe1",
   "metadata": {},
   "outputs": [],
   "source": []
  },
  {
   "cell_type": "markdown",
   "id": "934587e0",
   "metadata": {},
   "source": [
    "`4.Write a python program to create two threads.Threads one must print the list of square and thread two print the list of cubes.`"
   ]
  },
  {
   "cell_type": "code",
   "execution_count": 39,
   "id": "a3871c7b",
   "metadata": {},
   "outputs": [
    {
     "name": "stdout",
     "output_type": "stream",
     "text": [
      "List of squares: [1, 4, 9, 16, 25]\n",
      "List of cubes: [1, 8, 27, 64, 125]\n",
      "Both threads have finished\n"
     ]
    }
   ],
   "source": [
    "import threading\n",
    "\n",
    "def calculate_squares(numbers):\n",
    "    squares = [num ** 2 for num in numbers]\n",
    "    print(\"List of squares:\", squares)\n",
    "\n",
    "def calculate_cubes(numbers):\n",
    "    cubes = [num ** 3 for num in numbers]\n",
    "    print(\"List of cubes:\", cubes)\n",
    "\n",
    "numbers = [1, 2, 3, 4, 5]\n",
    "\n",
    "thread1 = threading.Thread(target=calculate_squares, args=(numbers,))\n",
    "thread2 = threading.Thread(target=calculate_cubes, args=(numbers,))\n",
    "\n",
    "thread1.start()\n",
    "thread2.start()\n",
    "\n",
    "thread1.join()\n",
    "thread2.join()\n",
    "\n",
    "print(\"Both threads have finished\")\n"
   ]
  },
  {
   "cell_type": "code",
   "execution_count": null,
   "id": "4e87d96e",
   "metadata": {},
   "outputs": [],
   "source": []
  },
  {
   "cell_type": "markdown",
   "id": "4500d43f",
   "metadata": {},
   "source": [
    "## 5.State advantages and disadvantages of multithreading."
   ]
  },
  {
   "cell_type": "markdown",
   "id": "0ef74612",
   "metadata": {},
   "source": [
    "ADVANTAGE:-----\n",
    "\n",
    "- Multithreading enables concurrent execution of tasks, which leads to better utilization of available resources and improved responsiveness in applications.\n",
    "\n",
    "\n",
    "- In multithreading, the treads are able to share the resources and memory of any other process. Hence, multithreading allows any program or application to perform multiple tasks inside the same address space.\n",
    "\n",
    "\n",
    "\n",
    "- As threads are light weight processes, thus they have a considerably minimal influence on the resources of the system.\n",
    "\n",
    "\n",
    "-\n",
    "\n",
    "\n",
    "DISADVANTAGE:----\n",
    "\n",
    "\n",
    "<--> Writing multithreaded programs can be complex due to the need for synchronization mechanisms to prevent data races and ensure thread safety.\n",
    "\n",
    "\n",
    "<--> Increases the complexity of the program.\n",
    "\n",
    "<-->Debugging and troubleshooting issues may become more challenging because the code can be complex."
   ]
  },
  {
   "cell_type": "code",
   "execution_count": null,
   "id": "0fc5779b",
   "metadata": {},
   "outputs": [],
   "source": []
  },
  {
   "cell_type": "markdown",
   "id": "ff3559b1",
   "metadata": {},
   "source": [
    "## `6.Explain deadlocks and race conditions.`"
   ]
  },
  {
   "cell_type": "markdown",
   "id": "0809846f",
   "metadata": {},
   "source": [
    "In Python, a deadlock is a situation where two or more threads or processes are blocked, each waiting for a resource that the other thread or process holds. As a result, none of the involved threads or processes can make progress, effectively becoming stuck in a circular dependency. Deadlocks can lead to a program becoming unresponsive and require external intervention to resolve.\n",
    "\n",
    "\n",
    "\n",
    "`1.Mutual Exclusion: At least one resource must be held in a non-sharable mode, preventing other threads from accessing it while it's in use.`\n",
    "\n",
    "`2.Hold and Wait: A thread holds at least one resource and is waiting to acquire additional resources that are currently held by other threads.`\n",
    "\n",
    "`3.No Preemption: Resources cannot be forcibly taken away from threads; they can only be released voluntarily by the thread holding them.`\n",
    "\n",
    "`4.Circular Wait: A circular chain of two or more threads exists, where each thread is waiting for a resource held by the next thread in the chain.`"
   ]
  },
  {
   "cell_type": "markdown",
   "id": "28e4c0fa",
   "metadata": {},
   "source": [
    "race conditions:--\n",
    "                   A race condition is an undesirable situation that occurs when a device or system attempts to perform two or more operations at the same time, but because of the nature of the device or system, the operations must be done in the proper sequence to be done correctly.`"
   ]
  },
  {
   "cell_type": "code",
   "execution_count": null,
   "id": "6facd72a",
   "metadata": {},
   "outputs": [],
   "source": []
  },
  {
   "cell_type": "code",
   "execution_count": null,
   "id": "fd0bb546",
   "metadata": {},
   "outputs": [],
   "source": []
  },
  {
   "cell_type": "code",
   "execution_count": null,
   "id": "dbe94e14",
   "metadata": {},
   "outputs": [],
   "source": []
  },
  {
   "cell_type": "code",
   "execution_count": null,
   "id": "89ced4ad",
   "metadata": {},
   "outputs": [],
   "source": []
  },
  {
   "cell_type": "code",
   "execution_count": null,
   "id": "d7927d2d",
   "metadata": {},
   "outputs": [],
   "source": []
  },
  {
   "cell_type": "code",
   "execution_count": null,
   "id": "cbe3dc5d",
   "metadata": {},
   "outputs": [],
   "source": []
  },
  {
   "cell_type": "code",
   "execution_count": null,
   "id": "e09ea8af",
   "metadata": {},
   "outputs": [],
   "source": []
  },
  {
   "cell_type": "code",
   "execution_count": null,
   "id": "075cd498",
   "metadata": {},
   "outputs": [],
   "source": [
    "https://www.scaler.com/topics/multithreading-in-python/"
   ]
  },
  {
   "cell_type": "code",
   "execution_count": null,
   "id": "5e0bcbf7",
   "metadata": {},
   "outputs": [],
   "source": []
  },
  {
   "cell_type": "code",
   "execution_count": null,
   "id": "99755e9a",
   "metadata": {},
   "outputs": [],
   "source": []
  },
  {
   "cell_type": "code",
   "execution_count": null,
   "id": "0e671721",
   "metadata": {},
   "outputs": [],
   "source": []
  },
  {
   "cell_type": "code",
   "execution_count": null,
   "id": "c3584aca",
   "metadata": {},
   "outputs": [],
   "source": []
  },
  {
   "cell_type": "code",
   "execution_count": null,
   "id": "bc58dbc4",
   "metadata": {},
   "outputs": [],
   "source": []
  }
 ],
 "metadata": {
  "kernelspec": {
   "display_name": "Python 3 (ipykernel)",
   "language": "python",
   "name": "python3"
  },
  "language_info": {
   "codemirror_mode": {
    "name": "ipython",
    "version": 3
   },
   "file_extension": ".py",
   "mimetype": "text/x-python",
   "name": "python",
   "nbconvert_exporter": "python",
   "pygments_lexer": "ipython3",
   "version": "3.9.12"
  }
 },
 "nbformat": 4,
 "nbformat_minor": 5
}
